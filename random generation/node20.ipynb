{
 "cells": [
  {
   "cell_type": "code",
   "execution_count": 1,
   "metadata": {
    "collapsed": false
   },
   "outputs": [
    {
     "name": "stdout",
     "output_type": "stream",
     "text": [
      "[1, 2, 3, 4, 5, 6, 7, 8, 9, 10, 11, 12, 13, 14, 15, 16, 17, 18, 19, 20] [21, 22, 23, 24, 25, 26, 27, 28, 29, 30, 31, 32, 33, 34, 35, 36, 37, 38, 39, 40] [41, 42, 43, 44, 45, 46, 47, 48, 49, 50, 51, 52, 53, 54, 55, 56, 57, 58, 59, 60]\n"
     ]
    }
   ],
   "source": [
    "person=[]\n",
    "supply=[]\n",
    "demand=[]\n",
    "for i in range(1,21):\n",
    "    person.append(i)\n",
    "for j in range(21,41):\n",
    "    supply.append(j)\n",
    "for k in range(41,61):\n",
    "    demand.append(k)\n",
    "print(person,supply,demand)"
   ]
  },
  {
   "cell_type": "code",
   "execution_count": 2,
   "metadata": {
    "collapsed": false
   },
   "outputs": [],
   "source": [
    "#person param\n",
    "sp=\"param: P: person :=\\n\"\n",
    "with open(\"node20.txt\",'a') as f:\n",
    "    f.write(sp)\n",
    "p_data=[]\n",
    "for p in person:\n",
    "    pn=1\n",
    "    p_data.append(pn)\n",
    "\n",
    "with open(\"node20.txt\",'a') as f:\n",
    "    for i in range(1,21):\n",
    "        pair='p'+str(i)\n",
    "        sp1=pair+' '+str(p_data[i-1])+'\\n'\n",
    "        f.write(sp1)\n",
    "    f.write(';\\n')\n",
    "#     print(pair,p_data[i-1])"
   ]
  },
  {
   "cell_type": "code",
   "execution_count": 3,
   "metadata": {
    "collapsed": false
   },
   "outputs": [
    {
     "name": "stdout",
     "output_type": "stream",
     "text": [
      "job done\n"
     ]
    }
   ],
   "source": [
    "import random\n",
    "\n",
    "# supply param\n",
    "\n",
    "def generate_node(supply,demand):\n",
    "    xp=[]\n",
    "    xs=[]\n",
    "    xd=[]\n",
    "    sums=0\n",
    "    sumd=0\n",
    "    for i in supply:\n",
    "        s=random.randint(1,5)\n",
    "        xs.append(s)\n",
    "        sums+=s\n",
    "    for k in demand:\n",
    "        dn=random.randint(1,5)\n",
    "        xd.append(dn)\n",
    "        sumd+=dn       \n",
    "    return xs,xd,sums,sumd\n",
    "\n",
    "s_data,d_data,s_sum,d_sum=generate_node(supply,demand)\n",
    "while s_sum!=d_sum:\n",
    "    s_data,d_data,s_sum,d_sum=generate_node(supply,demand)\n",
    "\n",
    "supp=\"param: O: supply :=\\n\"\n",
    "with open(\"node20.txt\",'a') as f:\n",
    "    f.write(supp)\n",
    "with open(\"node20.txt\",'a') as f:\n",
    "    for i in range(21,41):\n",
    "        pair='o'+str(i)\n",
    "        sp2=pair+' '+str(s_data[i-21])+'\\n'\n",
    "        f.write(sp2)\n",
    "    f.write(';\\n')\n",
    "    \n",
    "demm=\"param: D: demand :=\\n\"\n",
    "with open(\"node20.txt\",'a') as f:\n",
    "    f.write(demm)\n",
    "with open(\"node20.txt\",'a') as f:\n",
    "    for i in range(41,61):\n",
    "        pair='d'+str(i)\n",
    "        sp3=pair+' '+str(d_data[i-41])+'\\n'\n",
    "        f.write(sp3)\n",
    "    f.write(';\\n')\n",
    "print(\"job done\")\n",
    "    \n",
    "# print(\"param: O: supply :=\")    \n",
    "# for j in range(51,101):\n",
    "#     pair='o'+str(j)\n",
    "#     print(pair,s_data[j-51])\n",
    "# print(\";\")\n",
    "# print(\"param: D: demand :=\")\n",
    "# for k in range(101,151):\n",
    "#     pair='d'+str(k)\n",
    "#     print(pair,d_data[k-101])\n",
    "# print(\";\")\n"
   ]
  },
  {
   "cell_type": "code",
   "execution_count": 4,
   "metadata": {
    "collapsed": false
   },
   "outputs": [
    {
     "name": "stdout",
     "output_type": "stream",
     "text": [
      "job done\n"
     ]
    }
   ],
   "source": [
    "#oub olb\n",
    "olb_data=[]\n",
    "oub_data=[]\n",
    "for ele in supply:\n",
    "    olb_=1\n",
    "    oub_=100\n",
    "    olb_data.append(olb_)\n",
    "    oub_data.append(oub_)\n",
    "\n",
    "    \n",
    "nolb=\"param : olb:=\\n\"\n",
    "with open(\"node20.txt\",'a') as f:\n",
    "    f.write(nolb)\n",
    "with open(\"node20.txt\",'a') as f:\n",
    "    for i in range(21,41):\n",
    "        pair='o'+str(i)\n",
    "        sp4=pair+' '+str(olb_data[i-21])+'\\n'\n",
    "        f.write(sp4)\n",
    "    f.write(';\\n')\n",
    "   \n",
    "noub=\"param : oub:=\\n\"\n",
    "with open(\"node20.txt\",'a') as f:\n",
    "    f.write(noub)\n",
    "with open(\"node20.txt\",'a') as f:\n",
    "    for i in range(21,41):\n",
    "        pair='o'+str(i)\n",
    "        sp4=pair+' '+str(oub_data[i-21])+'\\n'\n",
    "        f.write(sp4)\n",
    "    f.write(';\\n')\n",
    "    \n",
    "print(\"job done\")\n",
    "\n",
    "# print(\"param : olb:=\")\n",
    "# for i in range(51,101):\n",
    "#     pair='o'+str(i)\n",
    "#     print(pair,olb_data[i-51])\n",
    "# print(\";\")\n",
    "# print(\"param : oub:=\")\n",
    "# for i in range(51,101):\n",
    "#     pair='o'+str(i)\n",
    "#     print(pair,oub_data[i-51])\n",
    "# print(\";\")"
   ]
  },
  {
   "cell_type": "code",
   "execution_count": 5,
   "metadata": {
    "collapsed": false
   },
   "outputs": [
    {
     "name": "stdout",
     "output_type": "stream",
     "text": [
      "job done\n"
     ]
    }
   ],
   "source": [
    "dlb_data=[]\n",
    "dub_data=[]\n",
    "for ele in demand:\n",
    "    dlb_=random.randint(1,7)\n",
    "    dub_=random.randint(25,35)\n",
    "    dlb_data.append(dlb_)\n",
    "    dub_data.append(dub_)\n",
    "\n",
    "ndlb=\"param : dlb:=\\n\"\n",
    "with open(\"node20.txt\",'a') as f:\n",
    "    f.write(ndlb)\n",
    "with open(\"node20.txt\",'a') as f:\n",
    "    for i in range(41,61):\n",
    "        pair='d'+str(i)\n",
    "        sp5=pair+' '+str(dlb_data[i-41])+'\\n'\n",
    "        f.write(sp5)\n",
    "    f.write(';\\n')\n",
    "   \n",
    "ndub=\"param : dub:=\\n\"\n",
    "with open(\"node20.txt\",'a') as f:\n",
    "    f.write(ndub)\n",
    "with open(\"node20.txt\",'a') as f:\n",
    "    for i in range(41,61):\n",
    "        pair='d'+str(i)\n",
    "        sp6=pair+' '+str(dub_data[i-41])+'\\n'\n",
    "        f.write(sp6)\n",
    "    f.write(';\\n')\n",
    "    \n",
    "print(\"job done\")\n",
    "\n",
    "# print(\"param : dlb:=\")\n",
    "# for i in range(101,151):\n",
    "#     pair='d'+str(i)\n",
    "#     print(pair,dlb_data[i-101])\n",
    "# print(\";\")\n",
    "# print(\"param : dub:=\")\n",
    "# for i in range(101,151):\n",
    "#     pair='d'+str(i)\n",
    "#     print(pair,dub_data[i-101])\n",
    "# print(\";\")"
   ]
  },
  {
   "cell_type": "code",
   "execution_count": 6,
   "metadata": {
    "collapsed": false
   },
   "outputs": [
    {
     "name": "stdout",
     "output_type": "stream",
     "text": [
      "param : timeod:=\n",
      "job done\n"
     ]
    }
   ],
   "source": [
    "#time od\n",
    "print(\"param : timeod:=\")\n",
    "\n",
    "\n",
    "tod=\"param : timeod:=\\n\"\n",
    "with open(\"node20.txt\",'a') as f:\n",
    "    f.write(tod)\n",
    "with open(\"node20.txt\",'a') as f:\n",
    "    for j in supply:\n",
    "        for k in demand:\n",
    "            timeod=random.randint(5,20)\n",
    "            pair='o'+str(j)+' '+'d'+str(k)\n",
    "            sp7=pair+' '+str(timeod)+'\\n'\n",
    "            f.write(sp7)\n",
    "    f.write(';\\n')\n",
    "    \n",
    "print(\"job done\")"
   ]
  },
  {
   "cell_type": "code",
   "execution_count": 7,
   "metadata": {
    "collapsed": false
   },
   "outputs": [
    {
     "name": "stdout",
     "output_type": "stream",
     "text": [
      "job done\n"
     ]
    }
   ],
   "source": [
    "tdo=\"param : timedo:=\\n\"\n",
    "with open(\"node20.txt\",'a') as f:\n",
    "    f.write(tdo)\n",
    "with open(\"node20.txt\",'a') as f:\n",
    "    for j in demand:\n",
    "        for k in supply:\n",
    "            timedo=random.randint(5,20)\n",
    "            pair='d'+str(j)+' '+'o'+str(k)\n",
    "            sp8=pair+' '+str(timedo)+'\\n'\n",
    "            f.write(sp8)\n",
    "    f.write(';\\n')\n",
    "    \n",
    "print(\"job done\")"
   ]
  },
  {
   "cell_type": "code",
   "execution_count": 8,
   "metadata": {
    "collapsed": false
   },
   "outputs": [
    {
     "name": "stdout",
     "output_type": "stream",
     "text": [
      "job done\n"
     ]
    }
   ],
   "source": [
    "#po cost\n",
    "# import random\n",
    "# print(\"param: costpo:=\")\n",
    "# for i in person:\n",
    "#     for j in supply:\n",
    "#         costpo=random.randint(5,15)\n",
    "#         pair='p'+str(i)+' '+'o'+str(j)\n",
    "#         print(pair,costpo)\n",
    "# print(\";\")\n",
    "\n",
    "cpo=\"param: costpo:=\\n\"\n",
    "with open(\"node20.txt\",'a') as f:\n",
    "    f.write(cpo)\n",
    "with open(\"node20.txt\",'a') as f:\n",
    "    for i in person:\n",
    "        for j in supply:\n",
    "            costpo=random.randint(5,15)\n",
    "            pair='p'+str(i)+' '+'o'+str(j)\n",
    "            sp9=pair+' '+str(costpo)+'\\n'\n",
    "            f.write(sp9)\n",
    "    f.write(';\\n')\n",
    "    \n",
    "print(\"job done\")"
   ]
  },
  {
   "cell_type": "code",
   "execution_count": 9,
   "metadata": {
    "collapsed": false
   },
   "outputs": [
    {
     "name": "stdout",
     "output_type": "stream",
     "text": [
      "job done\n"
     ]
    }
   ],
   "source": [
    "cod=\"param: costod:=\\n\"\n",
    "with open(\"node20.txt\",'a') as f:\n",
    "    f.write(cod)\n",
    "with open(\"node20.txt\",'a') as f:\n",
    "    for i in supply:\n",
    "        for j in demand:\n",
    "            costod=random.randint(5,15)\n",
    "            pair='o'+str(i)+' '+'d'+str(j)\n",
    "            sp10=pair+' '+str(costod)+'\\n'\n",
    "            f.write(sp10)\n",
    "    f.write(';\\n')\n",
    "    \n",
    "print(\"job done\")"
   ]
  },
  {
   "cell_type": "code",
   "execution_count": 10,
   "metadata": {
    "collapsed": false
   },
   "outputs": [
    {
     "name": "stdout",
     "output_type": "stream",
     "text": [
      "job done\n"
     ]
    }
   ],
   "source": [
    "cdo=\"param: costdo:=\\n\"\n",
    "with open(\"node20.txt\",'a') as f:\n",
    "    f.write(cdo)\n",
    "with open(\"node20.txt\",'a') as f:\n",
    "    for i in demand:\n",
    "        for j in supply:\n",
    "            costdo=random.randint(5,15)\n",
    "            pair='d'+str(i)+' '+'o'+str(j)\n",
    "            sp11=pair+' '+str(costdo)+'\\n'\n",
    "            f.write(sp11)\n",
    "    f.write(';\\n')\n",
    "    \n",
    "print(\"job done\")"
   ]
  },
  {
   "cell_type": "code",
   "execution_count": 11,
   "metadata": {
    "collapsed": false
   },
   "outputs": [
    {
     "name": "stdout",
     "output_type": "stream",
     "text": [
      "job done\n"
     ]
    }
   ],
   "source": [
    "cdp=\"param: costdp:=\\n\"\n",
    "with open(\"node20.txt\",'a') as f:\n",
    "    f.write(cdp)\n",
    "with open(\"node20.txt\",'a') as f:\n",
    "    for i in demand:\n",
    "        for j in person:\n",
    "            costdp=random.randint(5,15)\n",
    "            pair='d'+str(i)+' '+'p'+str(j)\n",
    "            sp12=pair+' '+str(costdp)+'\\n'\n",
    "            f.write(sp12)\n",
    "    f.write(';\\n')\n",
    "    \n",
    "print(\"job done\")"
   ]
  },
  {
   "cell_type": "code",
   "execution_count": null,
   "metadata": {
    "collapsed": true
   },
   "outputs": [],
   "source": []
  }
 ],
 "metadata": {
  "kernelspec": {
   "display_name": "Python [driving]",
   "language": "python",
   "name": "Python [driving]"
  },
  "language_info": {
   "codemirror_mode": {
    "name": "ipython",
    "version": 3
   },
   "file_extension": ".py",
   "mimetype": "text/x-python",
   "name": "python",
   "nbconvert_exporter": "python",
   "pygments_lexer": "ipython3",
   "version": "3.5.2"
  }
 },
 "nbformat": 4,
 "nbformat_minor": 0
}
