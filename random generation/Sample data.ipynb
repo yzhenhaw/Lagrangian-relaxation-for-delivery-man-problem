{
 "cells": [
  {
   "cell_type": "code",
   "execution_count": 1,
   "metadata": {
    "collapsed": false
   },
   "outputs": [
    {
     "name": "stdout",
     "output_type": "stream",
     "text": [
      "[1, 2, 3, 4, 5] [6, 7, 8, 9, 10] [11, 12, 13, 14, 15]\n"
     ]
    }
   ],
   "source": [
    "source=[]\n",
    "middle=[]\n",
    "destination=[]\n",
    "for i in range(1,6):\n",
    "    source.append(i)\n",
    "for j in range(6,11):\n",
    "    middle.append(j)\n",
    "for k in range(11,16):\n",
    "    destination.append(k)\n",
    "print(source,middle,destination)"
   ]
  },
  {
   "cell_type": "code",
   "execution_count": 3,
   "metadata": {
    "collapsed": false,
    "scrolled": false
   },
   "outputs": [
    {
     "name": "stdout",
     "output_type": "stream",
     "text": [
      "p1 o6 3\n",
      "p1 o7 7\n",
      "p1 o8 4\n",
      "p1 o9 6\n",
      "p1 o10 4\n",
      "p2 o6 5\n",
      "p2 o7 4\n",
      "p2 o8 1\n",
      "p2 o9 2\n",
      "p2 o10 7\n",
      "p3 o6 3\n",
      "p3 o7 1\n",
      "p3 o8 5\n",
      "p3 o9 8\n",
      "p3 o10 7\n",
      "p4 o6 2\n",
      "p4 o7 8\n",
      "p4 o8 5\n",
      "p4 o9 1\n",
      "p4 o10 1\n",
      "p5 o6 6\n",
      "p5 o7 6\n",
      "p5 o8 5\n",
      "p5 o9 7\n",
      "p5 o10 10\n"
     ]
    }
   ],
   "source": [
    "import random\n",
    "for i in source:\n",
    "    for j in middle:\n",
    "        cost=random.randint(1,10)\n",
    "        pair='p'+str(i)+' '+'o'+str(j)\n",
    "        print(pair,cost)"
   ]
  },
  {
   "cell_type": "code",
   "execution_count": 5,
   "metadata": {
    "collapsed": false
   },
   "outputs": [
    {
     "name": "stdout",
     "output_type": "stream",
     "text": [
      "o6 d11 5\n",
      "o6 d12 10\n",
      "o6 d13 5\n",
      "o6 d14 6\n",
      "o6 d15 7\n",
      "o7 d11 1\n",
      "o7 d12 7\n",
      "o7 d13 9\n",
      "o7 d14 1\n",
      "o7 d15 2\n",
      "o8 d11 8\n",
      "o8 d12 1\n",
      "o8 d13 4\n",
      "o8 d14 6\n",
      "o8 d15 7\n",
      "o9 d11 5\n",
      "o9 d12 8\n",
      "o9 d13 6\n",
      "o9 d14 4\n",
      "o9 d15 1\n",
      "o10 d11 3\n",
      "o10 d12 1\n",
      "o10 d13 6\n",
      "o10 d14 1\n",
      "o10 d15 6\n"
     ]
    }
   ],
   "source": [
    "import random\n",
    "for j in middle:\n",
    "    for k in destination:\n",
    "        cost=random.randint(1,10)\n",
    "        pair='o'+str(j)+' '+'d'+str(k)\n",
    "        print(pair,cost)"
   ]
  },
  {
   "cell_type": "code",
   "execution_count": 8,
   "metadata": {
    "collapsed": false
   },
   "outputs": [
    {
     "name": "stdout",
     "output_type": "stream",
     "text": [
      "d11 o6 6\n",
      "d11 o7 4\n",
      "d11 o8 5\n",
      "d11 o9 3\n",
      "d11 o10 9\n",
      "d12 o6 5\n",
      "d12 o7 10\n",
      "d12 o8 5\n",
      "d12 o9 9\n",
      "d12 o10 2\n",
      "d13 o6 7\n",
      "d13 o7 3\n",
      "d13 o8 7\n",
      "d13 o9 9\n",
      "d13 o10 6\n",
      "d14 o6 9\n",
      "d14 o7 7\n",
      "d14 o8 3\n",
      "d14 o9 2\n",
      "d14 o10 4\n",
      "d15 o6 6\n",
      "d15 o7 9\n",
      "d15 o8 1\n",
      "d15 o9 10\n",
      "d15 o10 6\n"
     ]
    }
   ],
   "source": [
    "import random\n",
    "for k in destination:\n",
    "    for j in middle:\n",
    "        cost=random.randint(1,10)\n",
    "        pair='d'+str(k)+' '+'o'+str(j)\n",
    "        print(pair,cost)"
   ]
  },
  {
   "cell_type": "code",
   "execution_count": 7,
   "metadata": {
    "collapsed": false
   },
   "outputs": [
    {
     "name": "stdout",
     "output_type": "stream",
     "text": [
      "d11 p1 6\n",
      "d11 p2 4\n",
      "d11 p3 1\n",
      "d11 p4 10\n",
      "d11 p5 1\n",
      "d12 p1 10\n",
      "d12 p2 10\n",
      "d12 p3 5\n",
      "d12 p4 9\n",
      "d12 p5 10\n",
      "d13 p1 6\n",
      "d13 p2 9\n",
      "d13 p3 2\n",
      "d13 p4 5\n",
      "d13 p5 2\n",
      "d14 p1 9\n",
      "d14 p2 7\n",
      "d14 p3 6\n",
      "d14 p4 10\n",
      "d14 p5 10\n",
      "d15 p1 4\n",
      "d15 p2 7\n",
      "d15 p3 5\n",
      "d15 p4 3\n",
      "d15 p5 2\n"
     ]
    }
   ],
   "source": [
    "import random\n",
    "for k in destination:\n",
    "    for i in source:\n",
    "        cost=random.randint(1,10)\n",
    "        pair='d'+str(k)+' '+'p'+str(i)\n",
    "        print(pair,cost)"
   ]
  },
  {
   "cell_type": "code",
   "execution_count": 11,
   "metadata": {
    "collapsed": false
   },
   "outputs": [
    {
     "name": "stdout",
     "output_type": "stream",
     "text": [
      "staff------------------\n",
      "p0 3\n",
      "p1 8\n",
      "p2 6\n",
      "p3 10\n",
      "p4 1\n",
      "supplier------------------\n",
      "o0 19\n",
      "o1 16\n",
      "o2 17\n",
      "o3 13\n",
      "o4 17\n",
      "destination------------------\n",
      "d0 18\n",
      "d1 12\n",
      "d2 20\n",
      "d3 16\n",
      "d4 16\n"
     ]
    }
   ],
   "source": [
    "#generate dilivery man source and supplier\n",
    "import random\n",
    "p_data=[]\n",
    "for p in source:\n",
    "    pn=random.randint(0,10)\n",
    "    p_data.append(pn)\n",
    "\n",
    "print(\"staff------------------\")\n",
    "for i in range(0,len(source)):\n",
    "    pair='p'+str(i)\n",
    "    print(pair,p_data[i])\n",
    "\n",
    "def generate_node(middle,destination):\n",
    "    xp=[]\n",
    "    xs=[]\n",
    "    xd=[]\n",
    "    sums=0\n",
    "    sumd=0\n",
    "    for i in middle:\n",
    "        s=random.randint(10,20)\n",
    "        xs.append(s)\n",
    "        sums+=s\n",
    "    for k in destination:\n",
    "        dn=random.randint(10,20)\n",
    "        xd.append(dn)\n",
    "        sumd+=dn       \n",
    "    return xs,xd,sums,sumd\n",
    "\n",
    "s_data,d_data,s_sum,d_sum=generate_node(middle,destination)\n",
    "while s_sum!=d_sum:\n",
    "    s_data,d_data,s_sum,d_sum=generate_node(middle,destination)\n",
    "\n",
    "print(\"supplier------------------\")    \n",
    "for j in range(0,len(middle)):\n",
    "    pair='o'+str(j)\n",
    "    print(pair,s_data[j])\n",
    "print(\"destination------------------\")\n",
    "for k in range(0,len(destination)):\n",
    "    pair='d'+str(k)\n",
    "    print(pair,d_data[k])\n"
   ]
  },
  {
   "cell_type": "code",
   "execution_count": 22,
   "metadata": {
    "collapsed": false
   },
   "outputs": [
    {
     "name": "stdout",
     "output_type": "stream",
     "text": [
      "(node i,node k)| [Ak, Bk] value\n",
      "\n",
      "(1, 11) | [13, 17]\n",
      "(1, 12) | [12, 20]\n",
      "(1, 13) | [10, 17]\n",
      "(1, 14) | [12, 17]\n",
      "(1, 15) | [10, 19]\n",
      "(2, 11) | [15, 19]\n",
      "(2, 12) | [11, 16]\n",
      "(2, 13) | [10, 16]\n",
      "(2, 14) | [14, 18]\n",
      "(2, 15) | [13, 20]\n",
      "(3, 11) | [14, 16]\n",
      "(3, 12) | [12, 18]\n",
      "(3, 13) | [10, 19]\n",
      "(3, 14) | [15, 16]\n",
      "(3, 15) | [13, 16]\n",
      "(4, 11) | [15, 16]\n",
      "(4, 12) | [12, 16]\n",
      "(4, 13) | [10, 20]\n",
      "(4, 14) | [10, 20]\n",
      "(4, 15) | [14, 16]\n",
      "(5, 11) | [11, 18]\n",
      "(5, 12) | [12, 17]\n",
      "(5, 13) | [12, 17]\n",
      "(5, 14) | [10, 18]\n",
      "(5, 15) | [14, 16]\n"
     ]
    }
   ],
   "source": [
    "print(\"(node i,node k)|\",\"[Ak, Bk] value\\n\")\n",
    "for i in source:\n",
    "    for k in destination:\n",
    "        Ak=random.randint(10,15)\n",
    "        Bk=random.randint(16,20)\n",
    "        \n",
    "        print((i,k),\"|\",[Ak,Bk])"
   ]
  },
  {
   "cell_type": "code",
   "execution_count": 26,
   "metadata": {
    "collapsed": false
   },
   "outputs": [
    {
     "name": "stdout",
     "output_type": "stream",
     "text": [
      "supplier Sj Value\n",
      "node 6 supply 11\n",
      "node 7 supply 15\n",
      "node 8 supply 16\n",
      "node 9 supply 18\n",
      "node 10 supply 16\n",
      "[11, 15, 16, 18, 16]\n"
     ]
    }
   ],
   "source": [
    "print(\"supplier Sj\", \"Value\")\n",
    "S=[]\n",
    "for j in middle:\n",
    "    Sj=random.randint(10,20)\n",
    "    print(\"node\", j, \"supply\", Sj)\n",
    "    S.append(Sj)\n",
    "print(S)"
   ]
  },
  {
   "cell_type": "code",
   "execution_count": 35,
   "metadata": {
    "collapsed": false
   },
   "outputs": [
    {
     "name": "stdout",
     "output_type": "stream",
     "text": [
      "Demand Dk Value\n",
      "node 11 demand 20\n",
      "node 12 demand 19\n",
      "node 13 demand 11\n",
      "node 14 demand 13\n",
      "node 15 demand 13\n",
      "[20, 19, 11, 13, 13]\n"
     ]
    }
   ],
   "source": [
    "print(\"Demand Dk\", \"Value\")\n",
    "D=[]\n",
    "def get_dest():\n",
    "    D=[]\n",
    "    for k in destination:\n",
    "        Dk=random.randint(10,20)\n",
    "        D.append(Dk)\n",
    "    return D\n",
    "\n",
    "while sum(D)!=sum(S):\n",
    "    D=get_dest()\n",
    "for k,n in zip(destination,D):\n",
    "    print(\"node\",k, \"demand\",n)\n",
    "print(D)"
   ]
  },
  {
   "cell_type": "code",
   "execution_count": 38,
   "metadata": {
    "collapsed": false
   },
   "outputs": [
    {
     "name": "stdout",
     "output_type": "stream",
     "text": [
      "travel time of (1, 6, 11) 11\n",
      "travel time of (1, 6, 12) 14\n",
      "travel time of (1, 6, 13) 23\n",
      "travel time of (1, 6, 14) 15\n",
      "travel time of (1, 6, 15) 24\n",
      "travel time of (1, 7, 11) 19\n",
      "travel time of (1, 7, 12) 20\n",
      "travel time of (1, 7, 13) 11\n",
      "travel time of (1, 7, 14) 21\n",
      "travel time of (1, 7, 15) 17\n",
      "travel time of (1, 8, 11) 17\n",
      "travel time of (1, 8, 12) 19\n",
      "travel time of (1, 8, 13) 13\n",
      "travel time of (1, 8, 14) 19\n",
      "travel time of (1, 8, 15) 21\n",
      "travel time of (1, 9, 11) 25\n",
      "travel time of (1, 9, 12) 21\n",
      "travel time of (1, 9, 13) 11\n",
      "travel time of (1, 9, 14) 13\n",
      "travel time of (1, 9, 15) 13\n",
      "travel time of (1, 10, 11) 11\n",
      "travel time of (1, 10, 12) 10\n",
      "travel time of (1, 10, 13) 22\n",
      "travel time of (1, 10, 14) 14\n",
      "travel time of (1, 10, 15) 14\n",
      "travel time of (2, 6, 11) 19\n",
      "travel time of (2, 6, 12) 11\n",
      "travel time of (2, 6, 13) 24\n",
      "travel time of (2, 6, 14) 19\n",
      "travel time of (2, 6, 15) 15\n",
      "travel time of (2, 7, 11) 15\n",
      "travel time of (2, 7, 12) 23\n",
      "travel time of (2, 7, 13) 17\n",
      "travel time of (2, 7, 14) 24\n",
      "travel time of (2, 7, 15) 21\n",
      "travel time of (2, 8, 11) 19\n",
      "travel time of (2, 8, 12) 17\n",
      "travel time of (2, 8, 13) 18\n",
      "travel time of (2, 8, 14) 12\n",
      "travel time of (2, 8, 15) 24\n",
      "travel time of (2, 9, 11) 10\n",
      "travel time of (2, 9, 12) 19\n",
      "travel time of (2, 9, 13) 15\n",
      "travel time of (2, 9, 14) 19\n",
      "travel time of (2, 9, 15) 21\n",
      "travel time of (2, 10, 11) 12\n",
      "travel time of (2, 10, 12) 17\n",
      "travel time of (2, 10, 13) 21\n",
      "travel time of (2, 10, 14) 20\n",
      "travel time of (2, 10, 15) 23\n",
      "travel time of (3, 6, 11) 14\n",
      "travel time of (3, 6, 12) 22\n",
      "travel time of (3, 6, 13) 15\n",
      "travel time of (3, 6, 14) 10\n",
      "travel time of (3, 6, 15) 21\n",
      "travel time of (3, 7, 11) 16\n",
      "travel time of (3, 7, 12) 17\n",
      "travel time of (3, 7, 13) 16\n",
      "travel time of (3, 7, 14) 19\n",
      "travel time of (3, 7, 15) 11\n",
      "travel time of (3, 8, 11) 10\n",
      "travel time of (3, 8, 12) 15\n",
      "travel time of (3, 8, 13) 22\n",
      "travel time of (3, 8, 14) 16\n",
      "travel time of (3, 8, 15) 10\n",
      "travel time of (3, 9, 11) 12\n",
      "travel time of (3, 9, 12) 14\n",
      "travel time of (3, 9, 13) 19\n",
      "travel time of (3, 9, 14) 23\n",
      "travel time of (3, 9, 15) 24\n",
      "travel time of (3, 10, 11) 24\n",
      "travel time of (3, 10, 12) 19\n",
      "travel time of (3, 10, 13) 18\n",
      "travel time of (3, 10, 14) 15\n",
      "travel time of (3, 10, 15) 10\n",
      "travel time of (4, 6, 11) 12\n",
      "travel time of (4, 6, 12) 25\n",
      "travel time of (4, 6, 13) 20\n",
      "travel time of (4, 6, 14) 11\n",
      "travel time of (4, 6, 15) 20\n",
      "travel time of (4, 7, 11) 17\n",
      "travel time of (4, 7, 12) 12\n",
      "travel time of (4, 7, 13) 16\n",
      "travel time of (4, 7, 14) 16\n",
      "travel time of (4, 7, 15) 16\n",
      "travel time of (4, 8, 11) 11\n",
      "travel time of (4, 8, 12) 14\n",
      "travel time of (4, 8, 13) 12\n",
      "travel time of (4, 8, 14) 19\n",
      "travel time of (4, 8, 15) 22\n",
      "travel time of (4, 9, 11) 21\n",
      "travel time of (4, 9, 12) 13\n",
      "travel time of (4, 9, 13) 18\n",
      "travel time of (4, 9, 14) 13\n",
      "travel time of (4, 9, 15) 17\n",
      "travel time of (4, 10, 11) 14\n",
      "travel time of (4, 10, 12) 10\n",
      "travel time of (4, 10, 13) 11\n",
      "travel time of (4, 10, 14) 19\n",
      "travel time of (4, 10, 15) 18\n",
      "travel time of (5, 6, 11) 22\n",
      "travel time of (5, 6, 12) 24\n",
      "travel time of (5, 6, 13) 10\n",
      "travel time of (5, 6, 14) 14\n",
      "travel time of (5, 6, 15) 21\n",
      "travel time of (5, 7, 11) 12\n",
      "travel time of (5, 7, 12) 11\n",
      "travel time of (5, 7, 13) 25\n",
      "travel time of (5, 7, 14) 19\n",
      "travel time of (5, 7, 15) 22\n",
      "travel time of (5, 8, 11) 16\n",
      "travel time of (5, 8, 12) 21\n",
      "travel time of (5, 8, 13) 12\n",
      "travel time of (5, 8, 14) 14\n",
      "travel time of (5, 8, 15) 13\n",
      "travel time of (5, 9, 11) 13\n",
      "travel time of (5, 9, 12) 18\n",
      "travel time of (5, 9, 13) 25\n",
      "travel time of (5, 9, 14) 16\n",
      "travel time of (5, 9, 15) 14\n",
      "travel time of (5, 10, 11) 11\n",
      "travel time of (5, 10, 12) 10\n",
      "travel time of (5, 10, 13) 23\n",
      "travel time of (5, 10, 14) 23\n",
      "travel time of (5, 10, 15) 23\n"
     ]
    }
   ],
   "source": [
    "import random\n",
    "for i in source:\n",
    "    for j in middle:\n",
    "        for k in destination:\n",
    "            travel_time=random.randint(10,25)\n",
    "            print(\"travel time of\",(i,j,k),travel_time)"
   ]
  },
  {
   "cell_type": "code",
   "execution_count": null,
   "metadata": {
    "collapsed": true
   },
   "outputs": [],
   "source": []
  }
 ],
 "metadata": {
  "kernelspec": {
   "display_name": "Python [driving]",
   "language": "python",
   "name": "Python [driving]"
  },
  "language_info": {
   "codemirror_mode": {
    "name": "ipython",
    "version": 3
   },
   "file_extension": ".py",
   "mimetype": "text/x-python",
   "name": "python",
   "nbconvert_exporter": "python",
   "pygments_lexer": "ipython3",
   "version": "3.5.2"
  }
 },
 "nbformat": 4,
 "nbformat_minor": 0
}
